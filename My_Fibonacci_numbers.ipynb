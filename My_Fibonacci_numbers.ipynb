{
  "nbformat": 4,
  "nbformat_minor": 0,
  "metadata": {
    "kernelspec": {
      "display_name": "Python 3",
      "language": "python",
      "name": "python3"
    },
    "language_info": {
      "codemirror_mode": {
        "name": "ipython",
        "version": 3
      },
      "file_extension": ".py",
      "mimetype": "text/x-python",
      "name": "python",
      "nbconvert_exporter": "python",
      "pygments_lexer": "ipython3",
      "version": "3.7.4"
    },
    "colab": {
      "name": "My Fibonacci numbers.ipynb",
      "provenance": [],
      "include_colab_link": true
    }
  },
  "cells": [
    {
      "cell_type": "markdown",
      "metadata": {
        "id": "view-in-github",
        "colab_type": "text"
      },
      "source": [
        "<a href=\"https://colab.research.google.com/github/TW168/miscellaneous/blob/master/My_Fibonacci_numbers.ipynb\" target=\"_parent\"><img src=\"https://colab.research.google.com/assets/colab-badge.svg\" alt=\"Open In Colab\"/></a>"
      ]
    },
    {
      "cell_type": "code",
      "metadata": {
        "id": "0LsfOO2r9QVO",
        "colab_type": "code",
        "colab": {}
      },
      "source": [
        "import datetime"
      ],
      "execution_count": 0,
      "outputs": []
    },
    {
      "cell_type": "code",
      "metadata": {
        "id": "UB6OuEiD8Dc0",
        "colab_type": "code",
        "outputId": "12e7771e-1aed-477f-9c91-75d76c2a26a6",
        "colab": {
          "base_uri": "https://localhost:8080/",
          "height": 69
        }
      },
      "source": [
        "# how many Fibonacci numbers i want to see? (fibn)\n",
        "# seq              = [n0, n1, n2, n3, n4, ........] \n",
        "# formula          = [0,   1, n0+n1, n1+n2, n2+n3, n3+n4, n4+n5, .......]\n",
        "# Fibonacci number = [0,   1,   1,    2,      3,    5,     8,    .......]\n",
        "\n",
        "#fib=[0,1,1]\n",
        "\n",
        "def gen_Fiboncci(fibn):\n",
        "    fib=[0,1,1]\n",
        "    ''' Generate Fibonacci number.\n",
        "\n",
        "    The sequence starts with n0= 0 and n1=1, n2=n1+n0, n3=n1+n2, and is thus:\n",
        "\n",
        "    [0, 1, 1, 2, 3, 5, 8, 13, 21, 34, 55, 89, 144, ..........]\n",
        "\n",
        "    gen_Fibonacci(n= integer)\n",
        "\n",
        "    return: \n",
        "        Fibonacci numbers, list type\n",
        "\n",
        "    ''' \n",
        "\n",
        "    for n in range (3, fibn):\n",
        "        fib.append(fib[(n-2)]+fib[(n-1)])\n",
        "    \n",
        "    print ('Fibonacci number= ', fib)\n",
        "\n",
        "\n",
        "start_time = datetime.datetime.now()\n",
        "\n",
        "fn= int(input('How many fibonacci numbers you want to see? '))\n",
        "x= gen_Fiboncci(fn)\n",
        "\n",
        "end_time = datetime.datetime.now()\n",
        "print('Time to perform this function is= ', end_time - start_time)    \n"
      ],
      "execution_count": 0,
      "outputs": [
        {
          "output_type": "stream",
          "text": [
            "How many fibonacci you want to see? 10\n",
            "Fibonacci number=  [0, 1, 1, 2, 3, 5, 8, 13, 21, 34]\n",
            "Time to perform this function is=  0:00:03.650212\n"
          ],
          "name": "stdout"
        }
      ]
    },
    {
      "cell_type": "code",
      "metadata": {
        "id": "yM41JeV18Dc-",
        "colab_type": "code",
        "colab": {}
      },
      "source": [
        ""
      ],
      "execution_count": 0,
      "outputs": []
    }
  ]
}
