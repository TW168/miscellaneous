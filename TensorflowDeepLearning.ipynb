{
  "nbformat": 4,
  "nbformat_minor": 0,
  "metadata": {
    "colab": {
      "name": "TensorflowDeepLearning.ipynb",
      "provenance": [],
      "authorship_tag": "ABX9TyPB/I6O+/jJzFKvsQC/Ng8R",
      "include_colab_link": true
    },
    "kernelspec": {
      "name": "python3",
      "display_name": "Python 3"
    },
    "language_info": {
      "name": "python"
    }
  },
  "cells": [
    {
      "cell_type": "markdown",
      "metadata": {
        "id": "view-in-github",
        "colab_type": "text"
      },
      "source": [
        "<a href=\"https://colab.research.google.com/github/TW168/miscellaneous/blob/master/TensorflowDeepLearning.ipynb\" target=\"_parent\"><img src=\"https://colab.research.google.com/assets/colab-badge.svg\" alt=\"Open In Colab\"/></a>"
      ]
    },
    {
      "cell_type": "code",
      "metadata": {
        "colab": {
          "base_uri": "https://localhost:8080/"
        },
        "id": "_qYgqP648VyR",
        "outputId": "86ddd3b9-af63-4dcc-eb7e-b9abd40dfd8c"
      },
      "source": [
        "%tensorflow_version 1.x\n"
      ],
      "execution_count": 1,
      "outputs": [
        {
          "output_type": "stream",
          "text": [
            "TensorFlow 1.x selected.\n"
          ],
          "name": "stdout"
        }
      ]
    },
    {
      "cell_type": "code",
      "metadata": {
        "colab": {
          "base_uri": "https://localhost:8080/"
        },
        "id": "FllGsbjV8fCv",
        "outputId": "3429ee3d-ef96-4b3a-df5a-29c8c0268b87"
      },
      "source": [
        "import tensorflow \n",
        "print(tensorflow.__version__)"
      ],
      "execution_count": 3,
      "outputs": [
        {
          "output_type": "stream",
          "text": [
            "1.15.2\n"
          ],
          "name": "stdout"
        }
      ]
    },
    {
      "cell_type": "code",
      "metadata": {
        "id": "zuPcwal38f5M"
      },
      "source": [
        "a= tensorflow.constant(6, name= 'constant_b')\n",
        "b= tensorflow.constant(3, name= 'constant_c')"
      ],
      "execution_count": 4,
      "outputs": []
    },
    {
      "cell_type": "code",
      "metadata": {
        "id": "ErQAy2YY8xNA"
      },
      "source": [
        "mul= tensorflow.math.divide(a,b, name= 'div')"
      ],
      "execution_count": 6,
      "outputs": []
    },
    {
      "cell_type": "code",
      "metadata": {
        "colab": {
          "base_uri": "https://localhost:8080/"
        },
        "id": "VibAQtMO89Hu",
        "outputId": "e3ae2c09-522c-4ad3-97d4-026823d6c1f1"
      },
      "source": [
        "sess= tensorflow.Session()\n",
        "sess.run(mul)"
      ],
      "execution_count": 9,
      "outputs": [
        {
          "output_type": "execute_result",
          "data": {
            "text/plain": [
              "2.0"
            ]
          },
          "metadata": {
            "tags": []
          },
          "execution_count": 9
        }
      ]
    },
    {
      "cell_type": "code",
      "metadata": {
        "id": "hrHiesXY9Gug",
        "colab": {
          "base_uri": "https://localhost:8080/"
        },
        "outputId": "8fb0b5cd-c85c-48e2-f4c2-abf2f2232afa"
      },
      "source": [
        "x1= tensorflow.constant([1,2,3,4])\n",
        "x2= tensorflow.constant([5,6,7,8])\n",
        "result= tensorflow.math.multiply(x1,x2)\n",
        "print(result)"
      ],
      "execution_count": 10,
      "outputs": [
        {
          "output_type": "stream",
          "text": [
            "Tensor(\"Mul:0\", shape=(4,), dtype=int32)\n"
          ],
          "name": "stdout"
        }
      ]
    },
    {
      "cell_type": "code",
      "metadata": {
        "colab": {
          "base_uri": "https://localhost:8080/"
        },
        "id": "P1LoQLVua9Tj",
        "outputId": "51a1d4c2-7d06-4a2a-b29e-b891099f446b"
      },
      "source": [
        "sess1= tensorflow.Session()\n",
        "sess1.run(result)"
      ],
      "execution_count": 12,
      "outputs": [
        {
          "output_type": "execute_result",
          "data": {
            "text/plain": [
              "array([ 5, 12, 21, 32], dtype=int32)"
            ]
          },
          "metadata": {
            "tags": []
          },
          "execution_count": 12
        }
      ]
    },
    {
      "cell_type": "code",
      "metadata": {
        "id": "LLYJMq1gbUYy"
      },
      "source": [
        ""
      ],
      "execution_count": null,
      "outputs": []
    }
  ]
}